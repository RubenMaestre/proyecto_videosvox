{
 "cells": [
  {
   "cell_type": "code",
   "execution_count": 4,
   "metadata": {},
   "outputs": [
    {
     "name": "stdout",
     "output_type": "stream",
     "text": [
      "Listado de municipios guardado en 'municipios.txt'\n"
     ]
    }
   ],
   "source": [
    "import os\n",
    "\n",
    "# Directorio donde se encuentran los archivos de video\n",
    "directory = 'C:/Users/34670/Desktop/python/proyecto_videos_vox/cierres'\n",
    "\n",
    "# Crear una lista para guardar los nombres de los municipios\n",
    "municipios = []\n",
    "\n",
    "# Recorrer los archivos en el directorio\n",
    "for filename in os.listdir(directory):\n",
    "    # Extraer el nombre del municipio (asumiendo que los nombres de los archivos son los nombres de los municipios)\n",
    "    municipio = os.path.splitext(filename)[0]\n",
    "    municipios.append(municipio)\n",
    "\n",
    "# Guardar la lista de municipios en un archivo con codificación UTF-8\n",
    "with open('municipios.txt', 'w', encoding='utf-8') as file:\n",
    "    for municipio in municipios:\n",
    "        file.write(municipio + '\\n')\n",
    "\n",
    "print(\"Listado de municipios guardado en 'municipios.txt'\")\n"
   ]
  },
  {
   "cell_type": "code",
   "execution_count": 5,
   "metadata": {},
   "outputs": [
    {
     "name": "stdout",
     "output_type": "stream",
     "text": [
      "Archivos renombrados y mapeo guardado en 'file_mapping.txt'\n"
     ]
    }
   ],
   "source": [
    "import os\n",
    "import unicodedata\n",
    "import re\n",
    "\n",
    "# Función para normalizar los nombres de los archivos\n",
    "def normalize_filename(filename):\n",
    "    # Convertir a minúsculas\n",
    "    filename = filename.lower()\n",
    "    # Reemplazar espacios por guiones bajos\n",
    "    filename = filename.replace(' ', '_')\n",
    "    # Eliminar acentos y caracteres especiales\n",
    "    filename = unicodedata.normalize('NFKD', filename).encode('ascii', 'ignore').decode('ascii')\n",
    "    # Reemplazar caracteres no alfanuméricos (excepto guiones bajos) por nada\n",
    "    filename = re.sub(r'[^a-z0-9_]', '', filename)\n",
    "    return filename\n",
    "\n",
    "# Directorio donde se encuentran los archivos de video\n",
    "directory = 'C:/Users/34670/Desktop/python/proyecto_videos_vox/cierres'\n",
    "\n",
    "# Diccionario para relacionar el nombre original con el nombre normalizado\n",
    "file_mapping = {}\n",
    "\n",
    "# Recorrer los archivos en el directorio\n",
    "for filename in os.listdir(directory):\n",
    "    if filename.endswith(\".mp4\"):\n",
    "        # Extraer el nombre sin la extensión\n",
    "        base_name = os.path.splitext(filename)[0]\n",
    "        # Normalizar el nombre del archivo\n",
    "        normalized_base_name = normalize_filename(base_name)\n",
    "        # Añadir la extensión .mp4\n",
    "        normalized_filename = normalized_base_name + '.mp4'\n",
    "        # Guardar la relación en el diccionario\n",
    "        file_mapping[filename] = normalized_filename\n",
    "        # Renombrar el archivo\n",
    "        os.rename(os.path.join(directory, filename), os.path.join(directory, normalized_filename))\n",
    "\n",
    "# Guardar la relación en un archivo con codificación UTF-8\n",
    "with open('file_mapping.txt', 'w', encoding='utf-8') as file:\n",
    "    for original, normalized in file_mapping.items():\n",
    "        file.write(f'{original} -> {normalized}\\n')\n",
    "\n",
    "print(\"Archivos renombrados y mapeo guardado en 'file_mapping.txt'\")\n"
   ]
  }
 ],
 "metadata": {
  "kernelspec": {
   "display_name": "Python 3",
   "language": "python",
   "name": "python3"
  },
  "language_info": {
   "codemirror_mode": {
    "name": "ipython",
    "version": 3
   },
   "file_extension": ".py",
   "mimetype": "text/x-python",
   "name": "python",
   "nbconvert_exporter": "python",
   "pygments_lexer": "ipython3",
   "version": "3.11.9"
  }
 },
 "nbformat": 4,
 "nbformat_minor": 2
}
